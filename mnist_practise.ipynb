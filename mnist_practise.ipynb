{
  "nbformat": 4,
  "nbformat_minor": 0,
  "metadata": {
    "colab": {
      "provenance": [],
      "authorship_tag": "ABX9TyPsflrmatP1UJTZFqsDdgJF",
      "include_colab_link": true
    },
    "kernelspec": {
      "name": "python3",
      "display_name": "Python 3"
    },
    "language_info": {
      "name": "python"
    }
  },
  "cells": [
    {
      "cell_type": "markdown",
      "metadata": {
        "id": "view-in-github",
        "colab_type": "text"
      },
      "source": [
        "<a href=\"https://colab.research.google.com/github/Aries1975/tibaml0315/blob/main/mnist_practise.ipynb\" target=\"_parent\"><img src=\"https://colab.research.google.com/assets/colab-badge.svg\" alt=\"Open In Colab\"/></a>"
      ]
    },
    {
      "cell_type": "markdown",
      "source": [
        "from keras import XXX\n",
        "-> from tensorflow.keras import XXX\n"
      ],
      "metadata": {
        "id": "YV5zPrrH-NsV"
      }
    },
    {
      "cell_type": "code",
      "execution_count": 17,
      "metadata": {
        "id": "F7-noMyW8upT"
      },
      "outputs": [],
      "source": [
        "from  tensorflow.keras.datasets import mnist\n",
        "#((x_train, y_train), (x_test, y_test))\n",
        "((x_train, y_train), (x_test, y_test))=mnist.load_data()"
      ]
    },
    {
      "cell_type": "code",
      "source": [
        "print(x_train.shape)\n",
        "print(x_test.shape)\n",
        "print(y_train.shape)\n",
        "print(y_test.shape)"
      ],
      "metadata": {
        "colab": {
          "base_uri": "https://localhost:8080/"
        },
        "id": "DlMosDBj_Xgg",
        "outputId": "63446453-d84a-42a7-9d03-25344d71ad7d"
      },
      "execution_count": 18,
      "outputs": [
        {
          "output_type": "stream",
          "name": "stdout",
          "text": [
            "(60000, 28, 28)\n",
            "(10000, 28, 28)\n",
            "(60000,)\n",
            "(10000,)\n"
          ]
        }
      ]
    },
    {
      "cell_type": "code",
      "source": [
        "import pandas as pd\n",
        "import matplotlib.pyplot as plt\n",
        "\n",
        "pd.DataFrame(x_train[0])\n",
        "plt.imshow(x_train[0], cmap=\"gray_r\")"
      ],
      "metadata": {
        "colab": {
          "base_uri": "https://localhost:8080/",
          "height": 447
        },
        "id": "VJlWA4r_AdGt",
        "outputId": "14c380de-422e-4e84-fdac-38e3d8af3c8d"
      },
      "execution_count": 19,
      "outputs": [
        {
          "output_type": "execute_result",
          "data": {
            "text/plain": [
              "<matplotlib.image.AxesImage at 0x7ff50507c040>"
            ]
          },
          "metadata": {},
          "execution_count": 19
        },
        {
          "output_type": "display_data",
          "data": {
            "text/plain": [
              "<Figure size 640x480 with 1 Axes>"
            ],
            "image/png": "[encoded data removed]"
          },
          "metadata": {}
        }
      ]
    },
    {
      "cell_type": "code",
      "source": [
        "# models(地基): Sequential(一層疊一層) Model(自由疊層)\n",
        "# layers: Dense(全連接層)\n",
        "from tensorflow.keras.models import Sequential\n",
        "from tensorflow.keras.layers import Dense\n",
        "layers = [\n",
        "    # 784 * 128 + 128(bias)\n",
        "    Dense(128, activation=\"sigmoid\", input_dim=784),\n",
        "    # 128 * 10 + 10(bias)\n",
        "    Dense(10, activation=\"sigmoid\")\n",
        "]\n",
        "model = Sequential(layers)\n",
        "model.summary()"
      ],
      "metadata": {
        "colab": {
          "base_uri": "https://localhost:8080/"
        },
        "id": "g7mJOtjTOAd-",
        "outputId": "d0c84d6a-7351-4bdf-b3d0-9a0548f037ae"
      },
      "execution_count": 20,
      "outputs": [
        {
          "output_type": "stream",
          "name": "stdout",
          "text": [
            "Model: \"sequential_2\"\n",
            "_________________________________________________________________\n",
            " Layer (type)                Output Shape              Param #   \n",
            "=================================================================\n",
            " dense_4 (Dense)             (None, 128)               100480    \n",
            "                                                                 \n",
            " dense_5 (Dense)             (None, 10)                1290      \n",
            "                                                                 \n",
            "=================================================================\n",
            "Total params: 101,770\n",
            "Trainable params: 101,770\n",
            "Non-trainable params: 0\n",
            "_________________________________________________________________\n"
          ]
        }
      ]
    },
    {
      "cell_type": "code",
      "source": [
        "# model.compile(loss=\"mse\", metrics=[\"accuracy\"])\n",
        "from tensorflow.keras.losses import CategoricalCrossentropy\n",
        "model.compile(loss=CategoricalCrossentropy(), metrics=[\"accuracy\"])"
      ],
      "metadata": {
        "id": "q-WbRbmW5qHl"
      },
      "execution_count": 21,
      "outputs": []
    },
    {
      "cell_type": "code",
      "source": [
        "# y\n",
        "from tensorflow.keras.utils import to_categorical\n",
        "y_train_cat = to_categorical(y_train, num_classes=10)\n",
        "y_test_cat = to_categorical(y_test, num_classes=10)\n",
        "print(y_train[0])\n",
        "print(y_train_cat[0])"
      ],
      "metadata": {
        "colab": {
          "base_uri": "https://localhost:8080/"
        },
        "id": "dsNMFeRr60ae",
        "outputId": "33653826-15b6-4ec2-a920-84d21d178342"
      },
      "execution_count": 22,
      "outputs": [
        {
          "output_type": "stream",
          "name": "stdout",
          "text": [
            "5\n",
            "[0. 0. 0. 0. 0. 1. 0. 0. 0. 0.]\n"
          ]
        }
      ]
    },
    {
      "cell_type": "code",
      "source": [
        "import numpy as np\n",
        "# tensorflow建議: x(0~1) x(-1~1)\n",
        "# tensorflow隨機的weight有配合\n",
        "# reshape你可以把一個位置替換成-1(讓他自己算)\n",
        "# x_train.reshape(60000, 784)\n",
        "x_train_norm = x_train.reshape(-1, 784)\n",
        "x_test_norm = x_test.reshape(-1, 784)\n",
        "print(x_train_norm.shape)\n",
        "print(x_test_norm.shape)"
      ],
      "metadata": {
        "colab": {
          "base_uri": "https://localhost:8080/"
        },
        "id": "6uTgcFrJ_HZY",
        "outputId": "348ddab9-36f0-413e-e91b-340dac6a950b"
      },
      "execution_count": 23,
      "outputs": [
        {
          "output_type": "stream",
          "name": "stdout",
          "text": [
            "(60000, 784)\n",
            "(10000, 784)\n"
          ]
        }
      ]
    },
    {
      "cell_type": "code",
      "source": [
        "# epochs: 決定要把整份資料看過幾輪\n",
        "# 絕對不是越多越好, 越多越過擬和, 反而導致現實資料錯更多\n",
        "# validation_split: 擬要切出一部分不給模型看, 來驗證這組參數表現得如何\n",
        "# 一輪: 54000(90%) / 100 -> 540\n",
        "# 10 epochs: 540 * 10\n",
        "model.fit(x_train_norm,\n",
        "     y_train_cat,\n",
        "     batch_size=100,\n",
        "     epochs=40,\n",
        "     validation_split=0.1)\n"
      ],
      "metadata": {
        "colab": {
          "base_uri": "https://localhost:8080/"
        },
        "id": "4qGZs8cc6-Nq",
        "outputId": "3b9083f4-fd77-4ea2-b616-28b8865b804e"
      },
      "execution_count": 24,
      "outputs": [
        {
          "output_type": "stream",
          "name": "stdout",
          "text": [
            "Epoch 1/40\n",
            "540/540 [==============================] - 4s 6ms/step - loss: 0.5362 - accuracy: 0.8515 - val_loss: 0.2631 - val_accuracy: 0.9250\n",
            "Epoch 2/40\n",
            "540/540 [==============================] - 2s 5ms/step - loss: 0.2878 - accuracy: 0.9145 - val_loss: 0.2146 - val_accuracy: 0.9338\n",
            "Epoch 3/40\n",
            "540/540 [==============================] - 3s 5ms/step - loss: 0.2463 - accuracy: 0.9257 - val_loss: 0.1878 - val_accuracy: 0.9462\n",
            "Epoch 4/40\n",
            "540/540 [==============================] - 3s 5ms/step - loss: 0.2244 - accuracy: 0.9325 - val_loss: 0.1764 - val_accuracy: 0.9480\n",
            "Epoch 5/40\n",
            "540/540 [==============================] - 4s 7ms/step - loss: 0.2063 - accuracy: 0.9375 - val_loss: 0.1645 - val_accuracy: 0.9520\n",
            "Epoch 6/40\n",
            "540/540 [==============================] - 3s 5ms/step - loss: 0.1923 - accuracy: 0.9416 - val_loss: 0.1618 - val_accuracy: 0.9552\n",
            "Epoch 7/40\n",
            "540/540 [==============================] - 2s 4ms/step - loss: 0.1836 - accuracy: 0.9446 - val_loss: 0.1552 - val_accuracy: 0.9570\n",
            "Epoch 8/40\n",
            "540/540 [==============================] - 3s 5ms/step - loss: 0.1794 - accuracy: 0.9454 - val_loss: 0.1523 - val_accuracy: 0.9533\n",
            "Epoch 9/40\n",
            "540/540 [==============================] - 4s 7ms/step - loss: 0.1711 - accuracy: 0.9487 - val_loss: 0.1425 - val_accuracy: 0.9605\n",
            "Epoch 10/40\n",
            "540/540 [==============================] - 3s 6ms/step - loss: 0.1656 - accuracy: 0.9496 - val_loss: 0.1449 - val_accuracy: 0.9572\n",
            "Epoch 11/40\n",
            "540/540 [==============================] - 3s 5ms/step - loss: 0.1602 - accuracy: 0.9506 - val_loss: 0.1447 - val_accuracy: 0.9570\n",
            "Epoch 12/40\n",
            "540/540 [==============================] - 2s 4ms/step - loss: 0.1585 - accuracy: 0.9516 - val_loss: 0.1337 - val_accuracy: 0.9600\n",
            "Epoch 13/40\n",
            "540/540 [==============================] - 2s 4ms/step - loss: 0.1531 - accuracy: 0.9526 - val_loss: 0.1377 - val_accuracy: 0.9592\n",
            "Epoch 14/40\n",
            "540/540 [==============================] - 4s 7ms/step - loss: 0.1484 - accuracy: 0.9548 - val_loss: 0.1291 - val_accuracy: 0.9607\n",
            "Epoch 15/40\n",
            "540/540 [==============================] - 2s 5ms/step - loss: 0.1441 - accuracy: 0.9557 - val_loss: 0.1295 - val_accuracy: 0.9620\n",
            "Epoch 16/40\n",
            "540/540 [==============================] - 2s 4ms/step - loss: 0.1419 - accuracy: 0.9563 - val_loss: 0.1301 - val_accuracy: 0.9630\n",
            "Epoch 17/40\n",
            "540/540 [==============================] - 2s 5ms/step - loss: 0.1370 - accuracy: 0.9576 - val_loss: 0.1322 - val_accuracy: 0.9607\n",
            "Epoch 18/40\n",
            "540/540 [==============================] - 2s 4ms/step - loss: 0.1372 - accuracy: 0.9584 - val_loss: 0.1231 - val_accuracy: 0.9645\n",
            "Epoch 19/40\n",
            "540/540 [==============================] - 4s 7ms/step - loss: 0.1348 - accuracy: 0.9587 - val_loss: 0.1233 - val_accuracy: 0.9648\n",
            "Epoch 20/40\n",
            "540/540 [==============================] - 3s 5ms/step - loss: 0.1336 - accuracy: 0.9592 - val_loss: 0.1226 - val_accuracy: 0.9622\n",
            "Epoch 21/40\n",
            "540/540 [==============================] - 3s 6ms/step - loss: 0.1310 - accuracy: 0.9595 - val_loss: 0.1277 - val_accuracy: 0.9652\n",
            "Epoch 22/40\n",
            "540/540 [==============================] - 2s 5ms/step - loss: 0.1279 - accuracy: 0.9611 - val_loss: 0.1242 - val_accuracy: 0.9637\n",
            "Epoch 23/40\n",
            "540/540 [==============================] - 4s 7ms/step - loss: 0.1267 - accuracy: 0.9618 - val_loss: 0.1265 - val_accuracy: 0.9623\n",
            "Epoch 24/40\n",
            "540/540 [==============================] - 3s 5ms/step - loss: 0.1259 - accuracy: 0.9619 - val_loss: 0.1172 - val_accuracy: 0.9660\n",
            "Epoch 25/40\n",
            "540/540 [==============================] - 3s 5ms/step - loss: 0.1250 - accuracy: 0.9625 - val_loss: 0.1233 - val_accuracy: 0.9643\n",
            "Epoch 26/40\n",
            "540/540 [==============================] - 3s 6ms/step - loss: 0.1236 - accuracy: 0.9623 - val_loss: 0.1204 - val_accuracy: 0.9668\n",
            "Epoch 27/40\n",
            "540/540 [==============================] - 3s 5ms/step - loss: 0.1221 - accuracy: 0.9625 - val_loss: 0.1151 - val_accuracy: 0.9648\n",
            "Epoch 28/40\n",
            "540/540 [==============================] - 3s 6ms/step - loss: 0.1214 - accuracy: 0.9617 - val_loss: 0.1177 - val_accuracy: 0.9668\n",
            "Epoch 29/40\n",
            "540/540 [==============================] - 2s 5ms/step - loss: 0.1188 - accuracy: 0.9638 - val_loss: 0.1215 - val_accuracy: 0.9650\n",
            "Epoch 30/40\n",
            "540/540 [==============================] - 3s 5ms/step - loss: 0.1183 - accuracy: 0.9639 - val_loss: 0.1190 - val_accuracy: 0.9665\n",
            "Epoch 31/40\n",
            "540/540 [==============================] - 3s 5ms/step - loss: 0.1207 - accuracy: 0.9632 - val_loss: 0.1149 - val_accuracy: 0.9655\n",
            "Epoch 32/40\n",
            "540/540 [==============================] - 3s 6ms/step - loss: 0.1211 - accuracy: 0.9630 - val_loss: 0.1151 - val_accuracy: 0.9675\n",
            "Epoch 33/40\n",
            "540/540 [==============================] - 3s 5ms/step - loss: 0.1167 - accuracy: 0.9651 - val_loss: 0.1218 - val_accuracy: 0.9663\n",
            "Epoch 34/40\n",
            "540/540 [==============================] - 2s 4ms/step - loss: 0.1165 - accuracy: 0.9643 - val_loss: 0.1169 - val_accuracy: 0.9652\n",
            "Epoch 35/40\n",
            "540/540 [==============================] - 2s 5ms/step - loss: 0.1151 - accuracy: 0.9649 - val_loss: 0.1102 - val_accuracy: 0.9682\n",
            "Epoch 36/40\n",
            "540/540 [==============================] - 3s 5ms/step - loss: 0.1148 - accuracy: 0.9653 - val_loss: 0.1150 - val_accuracy: 0.9658\n",
            "Epoch 37/40\n",
            "540/540 [==============================] - 5s 8ms/step - loss: 0.1155 - accuracy: 0.9636 - val_loss: 0.1167 - val_accuracy: 0.9665\n",
            "Epoch 38/40\n",
            "540/540 [==============================] - 3s 5ms/step - loss: 0.1161 - accuracy: 0.9647 - val_loss: 0.1165 - val_accuracy: 0.9665\n",
            "Epoch 39/40\n",
            "540/540 [==============================] - 3s 5ms/step - loss: 0.1159 - accuracy: 0.9651 - val_loss: 0.1113 - val_accuracy: 0.9663\n",
            "Epoch 40/40\n",
            "540/540 [==============================] - 2s 4ms/step - loss: 0.1143 - accuracy: 0.9655 - val_loss: 0.1168 - val_accuracy: 0.9672\n"
          ]
        },
        {
          "output_type": "execute_result",
          "data": {
            "text/plain": [
              "<keras.callbacks.History at 0x7ff50500b970>"
            ]
          },
          "metadata": {},
          "execution_count": 24
        }
      ]
    },
    {
      "cell_type": "code",
      "source": [],
      "metadata": {
        "id": "NUATWMLXHQ2h"
      },
      "execution_count": 24,
      "outputs": []
    }
  ]
}