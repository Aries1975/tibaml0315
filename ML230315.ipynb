{
  "nbformat": 4,
  "nbformat_minor": 0,
  "metadata": {
    "colab": {
      "provenance": [],
      "authorship_tag": "ABX9TyNyqeN28xYHpxZMXOKnhOY9",
      "include_colab_link": true
    },
    "kernelspec": {
      "name": "python3",
      "display_name": "Python 3"
    },
    "language_info": {
      "name": "python"
    }
  },
  "cells": [
    {
      "cell_type": "markdown",
      "metadata": {
        "id": "view-in-github",
        "colab_type": "text"
      },
      "source": [
        "<a href=\"https://colab.research.google.com/github/Aries1975/tibaml0315/blob/main/ML230315.ipynb\" target=\"_parent\"><img src=\"https://colab.research.google.com/assets/colab-badge.svg\" alt=\"Open In Colab\"/></a>"
      ]
    },
    {
      "cell_type": "code",
      "execution_count": null,
      "metadata": {
        "id": "T-MdEVpiIj9d"
      },
      "outputs": [],
      "source": []
    },
    {
      "cell_type": "markdown",
      "source": [
        "$ Area = \\frac{1}{2+x} \\pi{R^2} $ "
      ],
      "metadata": {
        "id": "dXY8MkH7Jg3M"
      }
    },
    {
      "cell_type": "code",
      "source": [],
      "metadata": {
        "id": "zbBhMK8qL2Gv"
      },
      "execution_count": null,
      "outputs": []
    }
  ]
}